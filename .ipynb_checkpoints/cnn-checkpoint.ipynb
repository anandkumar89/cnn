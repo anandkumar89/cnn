{
 "cells": [
  {
   "cell_type": "code",
   "execution_count": 2,
   "metadata": {},
   "outputs": [],
   "source": [
    "#!/home/anand/training/.env/bin/python3\n",
    "\n",
    "import tensorflow as tf\n",
    "import numpy as np\n",
    "import matplotlib.image as mpimg\n",
    "import matplotlib.pyplot as plt"
   ]
  },
  {
   "cell_type": "code",
   "execution_count": 183,
   "metadata": {},
   "outputs": [],
   "source": [
    "def pad_image(image, px):\n",
    "    x = image.shape[0]\n",
    "    y = image.shape[1]\n",
    "    z = image.shape[2]\n",
    "    padded_image = np.zeros((x+2*px, y+2*px, z)) \n",
    "    padded_image[px:-px,px:-px, z] = image       \n",
    "    return padded_image\n",
    "\n",
    "'''\n",
    "too slow \n",
    "how to use tensors: object can't be assigned error\n",
    "'''\n",
    "def convolve(image, filmat, stride):\n",
    "    image = np.array(image, dtype=np.float32)\n",
    "    x = image.shape[0]\n",
    "    y = image.shape[1]\n",
    "    z = image.shape[2]\n",
    "    if(not(isinstance(filmat, np.ndarray))):\n",
    "        filmat = np.array(filmat, dtype=np.float32)\n",
    "    fx = filmat.shape[0]\n",
    "    fy = filmat.shape[1]\n",
    "    fz = filmat.shape[2]\n",
    "    \n",
    "    ## Check: image depth == filter depth \n",
    "    if z!=fz:\n",
    "        print('image depth not equals to filter depth')\n",
    "        exit()\n",
    "    sx = int((x-fx)/stride)\n",
    "    sy = int((y-fy)/stride)\n",
    "\n",
    "    img_out = np.zeros((sx, sy), dtype=np.float32)\n",
    "        \n",
    "    for i in range(sx):\n",
    "                px = i*stride\n",
    "                for j in range(sy): \n",
    "                        py = j*stride\n",
    "                        sub = image[px:px+fx, py:py+fy, :]\n",
    "                        img_out[i,j] = np.tensordot(sub,filmat, axes=3)\n",
    " \n",
    "    return img_out\n",
    "\n",
    "def activate(image, weigh, bias):\n",
    "        '''\n",
    "        image = (h,w,c)\n",
    "        weigh = (h,w,c)\n",
    "        bias  = (1,1,c) % added to all elements in channel, broadcasting\n",
    "        '''\n",
    "        return np.maximum(np.multiply(image,weigh)+b)\n",
    "\n",
    "def pool(channel, f, stride, type='max'):\n",
    "        channel = np.array(channel, dtype=np.float32)\n",
    "        x = channel.shape[0]\n",
    "        y = channel.shape[1]\n",
    "\n",
    "        sx = int((x-f)/stride)\n",
    "        sy = int((y-f)/stride)\n",
    "        \n",
    "        img_out = np.zeros((sx, sy), dtype=np.float32)\n",
    "        \n",
    "        for i in range(sx):\n",
    "                px = i*stride\n",
    "                for j in range(sy): \n",
    "                        py = j*stride\n",
    "                        sub = channel[px:px+f, py:py+f]\n",
    "                        if type=='avg':\n",
    "                                img_out[i,j] = sub.mean()\n",
    "                        else:\n",
    "                                img_out[i,j] = sub.max()\n",
    " \n",
    "        return img_out\n",
    "\n",
    "def nn_pass(a, w, b, activation='relu'):\n",
    "        '''\n",
    "        a = activation of prev layer (nx1)\n",
    "        w = weight parameter (mxn)\n",
    "        b = biases for layer (mx1)\n",
    "        a_next (mx1) = w(mxn)*a(nx1) + b(mx1)\n",
    "        '''\n",
    "        z = np.dot(w, a)+b\n",
    "        if activation=='sigmoid':\n",
    "                return (z, 1/(1+np.exp(-1*z)))\n",
    "        else:\n",
    "                return (z, np.maximum(z))\n"
   ]
  },
  {
   "cell_type": "code",
   "execution_count": 182,
   "metadata": {},
   "outputs": [
    {
     "data": {
      "image/png": "[encoded data removed]",
      "text/plain": [
       "<Figure size 432x288 with 1 Axes>"
      ]
     },
     "metadata": {},
     "output_type": "display_data"
    }
   ],
   "source": [
    "from array import array\n",
    "data = array('B')\n",
    "label= array('B')\n",
    "\n",
    "with open('MNIST_data/train-images-idx3-ubyte', 'rb') as f:\n",
    "    data.fromfile(f, 28*28*60000+16)\n",
    "\n",
    "with open('MNIST_data/train-labels-idx1-ubyte', 'rb') as f:\n",
    "    label.fromfile(f, 60000+8)\n",
    "\n",
    "# Parsing mnist data\n",
    "data = np.array(data); data = data[16:]\n",
    "data = np.reshape(data, (28, 28, 1, 60000),order='F')\n",
    "label= np.array(label);label= label[8:]    \n",
    "\n",
    "# Vizualization of parsed data\n",
    "a = np.block([[data[:,:,0,0].T,data[:,:,0,1].T,data[:,:,0,2].T,data[:,:,0,3].T,data[:,:,0,4].T]])\n",
    "plt.imshow(a)\n",
    "plt.title(label[:5])\n",
    "plt.show()\n",
    "\n",
    "mnist = lambda index: (data[:,:,:,index], label[index])"
   ]
  },
  {
   "cell_type": "code",
   "execution_count": 186,
   "metadata": {
    "scrolled": true
   },
   "outputs": [
    {
     "ename": "IndexError",
     "evalue": "index 1 is out of bounds for axis 2 with size 1",
     "output_type": "error",
     "traceback": [
      "\u001b[0;31m---------------------------------------------------------------------------\u001b[0m",
      "\u001b[0;31mIndexError\u001b[0m                                Traceback (most recent call last)",
      "\u001b[0;32m<ipython-input-186-1f9c872d4dea>\u001b[0m in \u001b[0;36m<module>\u001b[0;34m()\u001b[0m\n\u001b[1;32m      3\u001b[0m \u001b[0;31m# ax[0,0].imshow(image);\u001b[0m\u001b[0;34m\u001b[0m\u001b[0;34m\u001b[0m\u001b[0m\n\u001b[1;32m      4\u001b[0m \u001b[0;34m\u001b[0m\u001b[0m\n\u001b[0;32m----> 5\u001b[0;31m \u001b[0mpadded\u001b[0m \u001b[0;34m=\u001b[0m \u001b[0mpad_image\u001b[0m\u001b[0;34m(\u001b[0m\u001b[0mimage\u001b[0m\u001b[0;34m,\u001b[0m \u001b[0;36m5\u001b[0m\u001b[0;34m)\u001b[0m\u001b[0;34m\u001b[0m\u001b[0m\n\u001b[0m\u001b[1;32m      6\u001b[0m \u001b[0mplt\u001b[0m\u001b[0;34m.\u001b[0m\u001b[0mimshow\u001b[0m\u001b[0;34m(\u001b[0m\u001b[0mpadded\u001b[0m\u001b[0;34m[\u001b[0m\u001b[0;34m:\u001b[0m\u001b[0;34m,\u001b[0m\u001b[0;34m:\u001b[0m\u001b[0;34m,\u001b[0m\u001b[0;36m0\u001b[0m\u001b[0;34m]\u001b[0m\u001b[0;34m)\u001b[0m \u001b[0;31m#ax[0,1].imshow(padded);\u001b[0m\u001b[0;34m\u001b[0m\u001b[0m\n\u001b[1;32m      7\u001b[0m \u001b[0;34m\u001b[0m\u001b[0m\n",
      "\u001b[0;32m<ipython-input-183-a277bf644acf>\u001b[0m in \u001b[0;36mpad_image\u001b[0;34m(image, px)\u001b[0m\n\u001b[1;32m      4\u001b[0m     \u001b[0mz\u001b[0m \u001b[0;34m=\u001b[0m \u001b[0mimage\u001b[0m\u001b[0;34m.\u001b[0m\u001b[0mshape\u001b[0m\u001b[0;34m[\u001b[0m\u001b[0;36m2\u001b[0m\u001b[0;34m]\u001b[0m\u001b[0;34m\u001b[0m\u001b[0m\n\u001b[1;32m      5\u001b[0m     \u001b[0mpadded_image\u001b[0m \u001b[0;34m=\u001b[0m \u001b[0mnp\u001b[0m\u001b[0;34m.\u001b[0m\u001b[0mzeros\u001b[0m\u001b[0;34m(\u001b[0m\u001b[0;34m(\u001b[0m\u001b[0mx\u001b[0m\u001b[0;34m+\u001b[0m\u001b[0;36m2\u001b[0m\u001b[0;34m*\u001b[0m\u001b[0mpx\u001b[0m\u001b[0;34m,\u001b[0m \u001b[0my\u001b[0m\u001b[0;34m+\u001b[0m\u001b[0;36m2\u001b[0m\u001b[0;34m*\u001b[0m\u001b[0mpx\u001b[0m\u001b[0;34m,\u001b[0m \u001b[0mz\u001b[0m\u001b[0;34m)\u001b[0m\u001b[0;34m)\u001b[0m\u001b[0;34m\u001b[0m\u001b[0m\n\u001b[0;32m----> 6\u001b[0;31m     \u001b[0mpadded_image\u001b[0m\u001b[0;34m[\u001b[0m\u001b[0mpx\u001b[0m\u001b[0;34m:\u001b[0m\u001b[0;34m-\u001b[0m\u001b[0mpx\u001b[0m\u001b[0;34m,\u001b[0m\u001b[0mpx\u001b[0m\u001b[0;34m:\u001b[0m\u001b[0;34m-\u001b[0m\u001b[0mpx\u001b[0m\u001b[0;34m,\u001b[0m \u001b[0mz\u001b[0m\u001b[0;34m]\u001b[0m \u001b[0;34m=\u001b[0m \u001b[0mimage\u001b[0m\u001b[0;34m\u001b[0m\u001b[0m\n\u001b[0m\u001b[1;32m      7\u001b[0m     \u001b[0;32mreturn\u001b[0m \u001b[0mpadded_image\u001b[0m\u001b[0;34m\u001b[0m\u001b[0m\n\u001b[1;32m      8\u001b[0m \u001b[0;34m\u001b[0m\u001b[0m\n",
      "\u001b[0;31mIndexError\u001b[0m: index 1 is out of bounds for axis 2 with size 1"
     ]
    }
   ],
   "source": [
    "image = mnist(100)[0]\n",
    "# fig, ax = plt.subplots(2,3, figsize=(16,10))\n",
    "# ax[0,0].imshow(image);\n",
    "\n",
    "padded = pad_image(image, 5)\n",
    "plt.imshow(padded[:,:,0]) #ax[0,1].imshow(padded);\n",
    "\n",
    "# filter_mat = np.array([[1,0,-1],[3,0,-3],[1,0,-1]])\n",
    "# filter_mat = b = np.repeat(filter_mat[:, :, np.newaxis], 3, axis=2)\n",
    "# conv = activate(convolve(padded, filter_mat, 1), 10)\n",
    "# ax[0,2].imshow(conv);"
   ]
  },
  {
   "cell_type": "code",
   "execution_count": null,
   "metadata": {},
   "outputs": [],
   "source": [
    "def back_conv():\n",
    "\tpass\n",
    "\n",
    "\n",
    "def back_nn(a,w):\n",
    "\t'''\n",
    "\tL = -(y[j]*log(a[j]) + (1-y[j])log(1-a[j]))\n",
    "\ta[j] = 1/(1+exp(z[j]); z[j] = w[ij]a_[i]\n",
    "\tdw[ij] = (y[j]-a[j])/{aj*(1-aj)}*a[j](1-a[j])*a_[i] = (yj-aj)a_i\n",
    "\t'''"
   ]
  }
 ],
 "metadata": {
  "kernelspec": {
   "display_name": "Python 3",
   "language": "python",
   "name": "python3"
  },
  "language_info": {
   "codemirror_mode": {
    "name": "ipython",
    "version": 3
   },
   "file_extension": ".py",
   "mimetype": "text/x-python",
   "name": "python",
   "nbconvert_exporter": "python",
   "pygments_lexer": "ipython3",
   "version": "3.5.2"
  }
 },
 "nbformat": 4,
 "nbformat_minor": 2
}
